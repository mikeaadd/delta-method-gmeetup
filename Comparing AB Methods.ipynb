{
 "cells": [
  {
   "cell_type": "code",
   "execution_count": null,
   "metadata": {
    "slideshow": {
     "slide_type": "skip"
    }
   },
   "outputs": [],
   "source": [
    "import os\n",
    "import warnings; warnings.simplefilter('ignore')\n",
    "import sys\n",
    "import pandas as pd\n",
    "import numpy as np\n",
    "from simulation import Simulation\n",
    "from abmethods import Naive, DeltaMethod, MixedModel\n",
    "from simuldata import UncorBinom, HetBinom"
   ]
  },
  {
   "cell_type": "markdown",
   "metadata": {},
   "source": [
    "Two main distributions were used for the power analysis.\n",
    "1. **Uncorrelated Data:** A Binomial Distribution with no correlation within users\n",
    "2. **Correlated Data:** A Binomial Distribution with correlation within users, with user's use-rate defined by varying Poisson distributions"
   ]
  },
  {
   "cell_type": "code",
   "execution_count": null,
   "metadata": {},
   "outputs": [],
   "source": [
    "import inspect\n",
    "print(f\"\"\"\n",
    "===== Uncorrelated Data =====\n",
    "{inspect.getsource(UncorBinom)}\n",
    "\n",
    "\n",
    "\n",
    "===== Uncorrelated Data =====\n",
    "{inspect.getsource(HetBinom)}\n",
    "\"\"\")"
   ]
  },
  {
   "cell_type": "code",
   "execution_count": null,
   "metadata": {},
   "outputs": [],
   "source": [
    "# tests to compare - I took out Mixed model for performance reasons...\n",
    "tests=[Naive(), DeltaMethod()]\n",
    "\n",
    "\n",
    "### Simulation Data Parameters ###\n",
    "# \"Click Through Rate\"\n",
    "mu=[0.3, 0.5, 0.8]\n",
    "# noise\n",
    "sigma=[0.05, 0.1, 0.05]\n",
    "# Frequency cohorts\n",
    "lamb=[2, 5, 30]\n",
    "# cohort sizes\n",
    "probs=[1/3, 1/2, 1/6]\n",
    "# sample size\n",
    "n=1000\n",
    "# number of runs\n",
    "m=100\n",
    "\n",
    "# Simulation Data\n",
    "bindata= UncorBinom(1, .6, n)\n",
    "hetdata = HetBinom(lamb, mu, sigma, n, probs)\n",
    "\n",
    "# Simulation \n",
    "hetsim = Simulation(m, hetdata, tests)\n",
    "binsim = Simulation(m, bindata, tests)"
   ]
  },
  {
   "cell_type": "code",
   "execution_count": null,
   "metadata": {},
   "outputs": [],
   "source": [
    "bindata.data()['unitlevel'].head(20)"
   ]
  },
  {
   "cell_type": "code",
   "execution_count": null,
   "metadata": {},
   "outputs": [],
   "source": [
    "hetdata.data()['unitlevel'].head(20)"
   ]
  },
  {
   "cell_type": "code",
   "execution_count": null,
   "metadata": {},
   "outputs": [],
   "source": [
    "hetsim.run()\n",
    "hetsim.report"
   ]
  },
  {
   "cell_type": "code",
   "execution_count": null,
   "metadata": {},
   "outputs": [],
   "source": [
    "binsim.run()\n",
    "binsim.report"
   ]
  },
  {
   "cell_type": "markdown",
   "metadata": {
    "slideshow": {
     "slide_type": "slide"
    }
   },
   "source": [
    "## Power Analysis<a name=\"poweranalysis\"></a>\n",
    "\n",
    "When there is a real effect, how large does the effect have to be for the test to find it?\n",
    "\n",
    "Basic Steps to Power Analysis\n",
    "\n",
    "1. simulate data that closely mimics real world data with a known estimate and variance\n",
    "2. increase effect size of the 'variant'; detect if test is significant\n",
    "3. repeat steps 1 and 2 to calculate Power at a certain effect size\n"
   ]
  },
  {
   "cell_type": "code",
   "execution_count": null,
   "metadata": {
    "scrolled": true,
    "slideshow": {
     "slide_type": "skip"
    }
   },
   "outputs": [],
   "source": [
    "hetdf=hetsim.power_test()\n",
    "effect_sizes = hetdf['effect_size'].unique()\n",
    "filter_sizes = [effect for i, effect in enumerate(effect_sizes) if i%3 == 0]\n",
    "het_summary = hetdf.loc[hetdf['effect_size'].isin(filter_sizes), ['test','effect_size', 'p']].groupby(['effect_size', 'test']).mean()\n",
    "\n",
    "bindf=binsim.power_test()\n",
    "bindf['truevar']= (.6 + bindf['effect_size'].astype(float))*(1 - .6 - bindf['effect_size'].astype(float))\n",
    "bindf[bindf['test'].isin(['Delta Method', 'Group Method(NS)'])].groupby(['test', 'effect_size']).mean()\n",
    "effect_sizes = bindf['effect_size'].unique()\n",
    "filter_sizes = [effect for i, effect in enumerate(effect_sizes) if i%3 == 0]\n",
    "bin_summary = bindf.loc[bindf['effect_size'].isin(filter_sizes), ['test','effect_size', 'p']].groupby(['effect_size', 'test']).mean()\n"
   ]
  },
  {
   "cell_type": "code",
   "execution_count": null,
   "metadata": {
    "slideshow": {
     "slide_type": "slide"
    }
   },
   "outputs": [],
   "source": [
    "binsim.plot_power(bindf)"
   ]
  },
  {
   "cell_type": "code",
   "execution_count": null,
   "metadata": {
    "slideshow": {
     "slide_type": "slide"
    }
   },
   "outputs": [],
   "source": [
    "hetsim.plot_power(hetdf)"
   ]
  },
  {
   "cell_type": "code",
   "execution_count": null,
   "metadata": {},
   "outputs": [],
   "source": []
  }
 ],
 "metadata": {
  "kernelspec": {
   "display_name": "Python 3",
   "language": "python",
   "name": "python3"
  },
  "language_info": {
   "codemirror_mode": {
    "name": "ipython",
    "version": 3
   },
   "file_extension": ".py",
   "mimetype": "text/x-python",
   "name": "python",
   "nbconvert_exporter": "python",
   "pygments_lexer": "ipython3",
   "version": "3.6.8"
  }
 },
 "nbformat": 4,
 "nbformat_minor": 2
}
