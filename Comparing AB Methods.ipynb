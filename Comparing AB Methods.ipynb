{
 "cells": [
  {
   "cell_type": "code",
   "execution_count": 26,
   "metadata": {
    "slideshow": {
     "slide_type": "skip"
    }
   },
   "outputs": [],
   "source": [
    "import os\n",
    "import sys\n",
    "import pandas as pd\n",
    "import numpy as np\n",
    "module_path = os.path.abspath(os.path.join('../../'))\n",
    "if module_path not in sys.path:\n",
    "    sys.path.append(module_path)\n",
    "from simulation import Simulation\n",
    "from abmethods import Naive, DeltaMethod, DeltaSpark, GroupMethod, GroupNoSpark, MixedModel\n",
    "from simuldata import UncorBinom, HetBinom\n",
    "import test_aa_significance as aa\n",
    "import run_defaultmodel_query as dmq"
   ]
  },
  {
   "cell_type": "code",
   "execution_count": null,
   "metadata": {
    "slideshow": {
     "slide_type": "skip"
    }
   },
   "outputs": [],
   "source": []
  },
  {
   "cell_type": "code",
   "execution_count": null,
   "metadata": {
    "slideshow": {
     "slide_type": "skip"
    }
   },
   "outputs": [],
   "source": []
  },
  {
   "cell_type": "code",
   "execution_count": 12,
   "metadata": {},
   "outputs": [
    {
     "data": {
      "text/plain": [
       "(542, 6)"
      ]
     },
     "execution_count": 12,
     "metadata": {},
     "output_type": "execute_result"
    }
   ],
   "source": []
  },
  {
   "cell_type": "markdown",
   "metadata": {
    "slideshow": {
     "slide_type": "slide"
    }
   },
   "source": [
    "# Introduction To The Group Model \n"
   ]
  },
  {
   "cell_type": "markdown",
   "metadata": {
    "slideshow": {
     "slide_type": "slide"
    }
   },
   "source": [
    "\n",
    "1. [What is the Group Model?](#groupmodel)\n",
    "2. [How will it work in Distillery?](#distillery)\n",
    "3. [Validation](#validation)\n",
    "    1. [AA Testing](#aatesting)\n",
    "    2. [Power Analysis](#poweranalysis)"
   ]
  },
  {
   "cell_type": "markdown",
   "metadata": {
    "slideshow": {
     "slide_type": "slide"
    }
   },
   "source": [
    "# What is the Group Model?<a name=\"groupmodel\"></a>"
   ]
  },
  {
   "cell_type": "code",
   "execution_count": 13,
   "metadata": {
    "slideshow": {
     "slide_type": "skip"
    }
   },
   "outputs": [
    {
     "data": {
      "text/plain": [
       "3.4166666666666665"
      ]
     },
     "execution_count": 13,
     "metadata": {},
     "output_type": "execute_result"
    }
   ],
   "source": [
    "example_df = pd.DataFrame(data={'metric':np.array([1.2,2.3,2.9,1.9,5.5,5.1,7.4,6.1,8.2,7.8])})\n",
    "metric_mean = example_df['metric'].mean()\n",
    "example_df2 = example_df.copy()\n",
    "example_df2['User'] = np.array(['user1', 'user2', 'user2', 'user2','user3','user3','user3','user3','user3','user3'])\n",
    "grouped_mean = example_df2.groupby('User').mean().reset_index()\n",
    "mean = grouped_mean.mean()[0]\n",
    "mean"
   ]
  },
  {
   "cell_type": "markdown",
   "metadata": {
    "slideshow": {
     "slide_type": "slide"
    }
   },
   "source": []
  },
  {
   "cell_type": "markdown",
   "metadata": {
    "slideshow": {
     "slide_type": "slide"
    },
    "variables": {
     "example_df": "<p><strong>NameError</strong>: name &#39;example_df&#39; is not defined</p>\n",
     "len(example_df)": "<p><strong>NameError</strong>: name &#39;example_df&#39; is not defined</p>\n",
     "round(metric_mean,2)": "<p><strong>NameError</strong>: name &#39;metric_mean&#39; is not defined</p>\n"
    }
   },
   "source": []
  },
  {
   "cell_type": "markdown",
   "metadata": {
    "slideshow": {
     "slide_type": "slide"
    },
    "variables": {
     "example_df2": "<p><strong>NameError</strong>: name &#39;example_df2&#39; is not defined</p>\n"
    }
   },
   "source": []
  },
  {
   "cell_type": "markdown",
   "metadata": {
    "slideshow": {
     "slide_type": "slide"
    },
    "variables": {
     "display(example_df2)": "<p><strong>NameError</strong>: name &#39;example_df2&#39; is not defined</p>\n",
     "grouped_mean": "<p><strong>NameError</strong>: name &#39;grouped_mean&#39; is not defined</p>\n",
     "len(grouped_mean)": "<p><strong>NameError</strong>: name &#39;grouped_mean&#39; is not defined</p>\n",
     "round(mean,2)": "<p><strong>NameError</strong>: name &#39;mean&#39; is not defined</p>\n"
    }
   },
   "source": []
  },
  {
   "cell_type": "markdown",
   "metadata": {
    "slideshow": {
     "slide_type": "slide"
    }
   },
   "source": []
  },
  {
   "cell_type": "markdown",
   "metadata": {
    "slideshow": {
     "slide_type": "slide"
    }
   },
   "source": []
  },
  {
   "cell_type": "markdown",
   "metadata": {
    "slideshow": {
     "slide_type": "slide"
    }
   },
   "source": []
  },
  {
   "cell_type": "markdown",
   "metadata": {
    "slideshow": {
     "slide_type": "slide"
    }
   },
   "source": [
    "\n"
   ]
  },
  {
   "cell_type": "markdown",
   "metadata": {
    "slideshow": {
     "slide_type": "slide"
    }
   },
   "source": []
  },
  {
   "cell_type": "markdown",
   "metadata": {
    "slideshow": {
     "slide_type": "slide"
    }
   },
   "source": [
    "## AA Testing<a name=\"aatesting\"></a>"
   ]
  },
  {
   "cell_type": "markdown",
   "metadata": {
    "slideshow": {
     "slide_type": "slide"
    }
   },
   "source": []
  },
  {
   "cell_type": "code",
   "execution_count": null,
   "metadata": {
    "slideshow": {
     "slide_type": "skip"
    }
   },
   "outputs": [],
   "source": []
  },
  {
   "cell_type": "code",
   "execution_count": null,
   "metadata": {
    "slideshow": {
     "slide_type": "skip"
    }
   },
   "outputs": [],
   "source": []
  },
  {
   "cell_type": "code",
   "execution_count": null,
   "metadata": {},
   "outputs": [],
   "source": []
  },
  {
   "cell_type": "markdown",
   "metadata": {
    "slideshow": {
     "slide_type": "slide"
    }
   },
   "source": []
  },
  {
   "cell_type": "markdown",
   "metadata": {
    "slideshow": {
     "slide_type": "slide"
    }
   },
   "source": [
    "## Power Analysis<a name=\"poweranalysis\"></a>\n",
    "\n",
    "When there is a real effect, how large does the effect have to be for the test to find it\n",
    "\n",
    "Basic Steps to Power Analysis\n",
    "\n",
    "    1. simulate data that closely mimics real world data with a known estimate and variance\n",
    "    2. increase effect size of the 'variant'; detect if test is significant\n",
    "    3. repeat steps 1 and 2 to calculate Power at a certain effect size\n"
   ]
  },
  {
   "cell_type": "markdown",
   "metadata": {
    "slideshow": {
     "slide_type": "slide"
    }
   },
   "source": [
    "## Power Analysis<a name=\"poweranalysis\"></a>\n",
    "\n",
    "* Two main distributions were used for the power analysis.\n",
    "    1. Uncorrelated Data: A Binomial Distribution with no correlation within users\n",
    "    2. Correlated Data: A Binomial Distribution with correlation within users, with users use rate defined by varying Poisson distributions "
   ]
  },
  {
   "cell_type": "code",
   "execution_count": 19,
   "metadata": {
    "slideshow": {
     "slide_type": "skip"
    }
   },
   "outputs": [
    {
     "name": "stdout",
     "output_type": "stream",
     "text": [
      "0\n",
      "20\n",
      "40\n",
      "60\n",
      "80\n",
      "0: 0.3\n",
      "1: 0.3103448275862069\n",
      "2: 0.32068965517241377\n",
      "3: 0.3310344827586207\n",
      "4: 0.3413793103448276\n",
      "5: 0.35172413793103446\n",
      "6: 0.3620689655172414\n",
      "7: 0.37241379310344824\n",
      "8: 0.38275862068965516\n",
      "9: 0.3931034482758621\n",
      "10: 0.40344827586206894\n",
      "11: 0.41379310344827586\n",
      "12: 0.4241379310344827\n",
      "13: 0.43448275862068964\n",
      "14: 0.44482758620689655\n",
      "15: 0.45517241379310347\n",
      "16: 0.46551724137931033\n",
      "17: 0.4758620689655172\n",
      "18: 0.4862068965517241\n",
      "19: 0.496551724137931\n",
      "20: 0.506896551724138\n",
      "21: 0.5172413793103448\n",
      "22: 0.5275862068965518\n",
      "23: 0.5379310344827586\n",
      "24: 0.5482758620689655\n",
      "25: 0.5586206896551724\n",
      "26: 0.5689655172413792\n",
      "27: 0.5793103448275863\n",
      "28: 0.5896551724137931\n",
      "29: 0.6\n",
      "0\n",
      "20\n",
      "40\n",
      "60\n",
      "80\n",
      "0: 0.6\n",
      "1: 0.603448275862069\n",
      "2: 0.6068965517241379\n",
      "3: 0.6103448275862069\n",
      "4: 0.6137931034482759\n",
      "5: 0.6172413793103448\n",
      "6: 0.6206896551724138\n",
      "7: 0.6241379310344828\n",
      "8: 0.6275862068965516\n",
      "9: 0.6310344827586206\n",
      "10: 0.6344827586206896\n",
      "11: 0.6379310344827586\n",
      "12: 0.6413793103448275\n",
      "13: 0.6448275862068965\n",
      "14: 0.6482758620689655\n",
      "15: 0.6517241379310345\n",
      "16: 0.6551724137931034\n",
      "17: 0.6586206896551724\n",
      "18: 0.6620689655172414\n",
      "19: 0.6655172413793103\n",
      "20: 0.6689655172413793\n",
      "21: 0.6724137931034482\n",
      "22: 0.6758620689655173\n",
      "23: 0.6793103448275861\n",
      "24: 0.6827586206896551\n",
      "25: 0.6862068965517241\n",
      "26: 0.689655172413793\n",
      "27: 0.693103448275862\n",
      "28: 0.696551724137931\n",
      "29: 0.7\n"
     ]
    }
   ],
   "source": [
    "mu=[0.3, 0.5, 0.8]\n",
    "sigma=[0.05, 0.1, 0.05]\n",
    "lamb=[2, 5, 30]\n",
    "probs=[1/3, 1/2, 1/6]\n",
    "n=1000\n",
    "m=100\n",
    "hetdata = HetBinom(lamb, mu, sigma, n, probs)\n",
    "tests=[Naive(), GroupNoSpark()]\n",
    "hetsim=Simulation(m, hetdata, tests)\n",
    "hetsim.run()\n",
    "hetdf=hetsim.power_test()\n",
    "effect_sizes = hetdf['effect_size'].unique()\n",
    "filter_sizes = [effect for i, effect in enumerate(effect_sizes) if i%3 == 0]\n",
    "het_summary = hetdf.loc[hetdf['effect_size'].isin(filter_sizes), ['test','effect_size', 'p']].groupby(['effect_size', 'test']).mean()\n",
    "\n",
    "\n",
    "bindata=UncorBinom(1, .6, n)\n",
    "tests=[Naive(), GroupNoSpark()]\n",
    "binsim=Simulation(m, bindata, tests)\n",
    "binsim.run()\n",
    "bindf=binsim.power_test()\n",
    "bindf['truevar']= (.6 + bindf['effect_size'].astype(float))*(1 - .6 - bindf['effect_size'].astype(float))\n",
    "bindf[bindf['test'].isin(['Delta Method', 'Group Method(NS)'])].groupby(['test', 'effect_size']).mean()\n",
    "effect_sizes = bindf['effect_size'].unique()\n",
    "filter_sizes = [effect for i, effect in enumerate(effect_sizes) if i%3 == 0]\n",
    "bin_summary = bindf.loc[bindf['effect_size'].isin(filter_sizes), ['test','effect_size', 'p']].groupby(['effect_size', 'test']).mean()\n"
   ]
  },
  {
   "cell_type": "code",
   "execution_count": 20,
   "metadata": {
    "slideshow": {
     "slide_type": "slide"
    }
   },
   "outputs": [
    {
     "data": {
      "image/png": "[encoded data removed]",
      "text/plain": [
       "<Figure size 864x648 with 1 Axes>"
      ]
     },
     "metadata": {},
     "output_type": "display_data"
    }
   ],
   "source": [
    "binsim.plot_power(bindf)"
   ]
  },
  {
   "cell_type": "code",
   "execution_count": 21,
   "metadata": {
    "slideshow": {
     "slide_type": "slide"
    }
   },
   "outputs": [
    {
     "data": {
      "image/png": "[encoded data removed]",
      "text/plain": [
       "<Figure size 864x648 with 1 Axes>"
      ]
     },
     "metadata": {},
     "output_type": "display_data"
    }
   ],
   "source": [
    "hetsim.plot_power(hetdf)"
   ]
  },
  {
   "cell_type": "code",
   "execution_count": null,
   "metadata": {},
   "outputs": [],
   "source": []
  }
 ],
 "metadata": {
  "celltoolbar": "Slideshow",
  "kernelspec": {
   "display_name": "Python 3",
   "language": "python",
   "name": "python3"
  },
  "language_info": {
   "codemirror_mode": {
    "name": "ipython",
    "version": 3
   },
   "file_extension": ".py",
   "mimetype": "text/x-python",
   "name": "python",
   "nbconvert_exporter": "python",
   "pygments_lexer": "ipython3",
   "version": "3.6.8"
  }
 },
 "nbformat": 4,
 "nbformat_minor": 2
}
